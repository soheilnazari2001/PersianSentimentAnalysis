{
 "cells": [
  {
   "cell_type": "markdown",
   "id": "dbf4b23a",
   "metadata": {
    "papermill": {
     "duration": 0.010723,
     "end_time": "2024-01-27T00:37:46.851909",
     "exception": false,
     "start_time": "2024-01-27T00:37:46.841186",
     "status": "completed"
    },
    "tags": []
   },
   "source": [
    "# P0: Intro"
   ]
  },
  {
   "cell_type": "markdown",
   "id": "dd0cf6a5",
   "metadata": {
    "papermill": {
     "duration": 0.009964,
     "end_time": "2024-01-27T00:37:46.872277",
     "exception": false,
     "start_time": "2024-01-27T00:37:46.862313",
     "status": "completed"
    },
    "tags": []
   },
   "source": [
    "<center><b>Machine Learning Project</b></center>\n",
    "<br><center><b>Sharif University of Technology - Fall 2023</b></center>\n",
    "\n",
    "Author: Soheil Nazari Mendejin <br>\n",
    "99102412"
   ]
  },
  {
   "cell_type": "markdown",
   "id": "91b1cec7",
   "metadata": {
    "papermill": {
     "duration": 0.010006,
     "end_time": "2024-01-27T00:37:46.892463",
     "exception": false,
     "start_time": "2024-01-27T00:37:46.882457",
     "status": "completed"
    },
    "tags": []
   },
   "source": [
    "In this project, I created a sentiment analysis model using comments from two major Persian websites: Snappfood, for food delivery, and Digikala, an online shopping platform. The work involved training a neural network to understand user sentiments from Snappfood and then fine-tuning it with Digikala comments to address the challenge of changing contexts. This project highlights my skills in machine learning and natural language processing, demonstrating my ability to manage complex data and adapt models to new domains."
   ]
  },
  {
   "cell_type": "markdown",
   "id": "f2598641",
   "metadata": {
    "papermill": {
     "duration": 0.01001,
     "end_time": "2024-01-27T00:37:46.912647",
     "exception": false,
     "start_time": "2024-01-27T00:37:46.902637",
     "status": "completed"
    },
    "tags": []
   },
   "source": [
    "# P1: Exploring the Datasets (25 points)"
   ]
  },
  {
   "cell_type": "markdown",
   "id": "7580fd1f",
   "metadata": {
    "papermill": {
     "duration": 0.010524,
     "end_time": "2024-01-27T00:37:46.933376",
     "exception": false,
     "start_time": "2024-01-27T00:37:46.922852",
     "status": "completed"
    },
    "tags": []
   },
   "source": [
    "Both of the datasets are added to the notebook. In this part, we want to explore their contents. "
   ]
  },
  {
   "cell_type": "markdown",
   "id": "3b376304",
   "metadata": {
    "papermill": {
     "duration": 0.010018,
     "end_time": "2024-01-27T00:37:46.953513",
     "exception": false,
     "start_time": "2024-01-27T00:37:46.943495",
     "status": "completed"
    },
    "tags": []
   },
   "source": [
    "Load both of the datasets "
   ]
  },
  {
   "cell_type": "code",
   "execution_count": 1,
   "id": "d13a92e8",
   "metadata": {
    "execution": {
     "iopub.execute_input": "2024-01-27T00:37:46.975186Z",
     "iopub.status.busy": "2024-01-27T00:37:46.974880Z",
     "iopub.status.idle": "2024-01-27T00:37:59.553483Z",
     "shell.execute_reply": "2024-01-27T00:37:59.552506Z"
    },
    "papermill": {
     "duration": 12.592167,
     "end_time": "2024-01-27T00:37:59.555770",
     "exception": false,
     "start_time": "2024-01-27T00:37:46.963603",
     "status": "completed"
    },
    "tags": []
   },
   "outputs": [
    {
     "name": "stderr",
     "output_type": "stream",
     "text": [
      "/opt/conda/lib/python3.10/site-packages/scipy/__init__.py:146: UserWarning: A NumPy version >=1.16.5 and <1.23.0 is required for this version of SciPy (detected version 1.24.3\n",
      "  warnings.warn(f\"A NumPy version >={np_minversion} and <{np_maxversion}\"\n"
     ]
    }
   ],
   "source": [
    "import pandas as pd\n",
    "from tensorflow.keras.models import model_from_json\n",
    "snappfood_data = pd.read_csv('/kaggle/input/snappfood-persian-sentiment-analysis/Snappfood - Sentiment Analysis.csv', sep='\\t+', engine='python')\n",
    "digikala_data = pd.read_csv('/kaggle/input/digikala-comments-persian-sentiment-analysis/data.csv')"
   ]
  },
  {
   "cell_type": "markdown",
   "id": "337b9f47",
   "metadata": {
    "papermill": {
     "duration": 0.010051,
     "end_time": "2024-01-27T00:37:59.576499",
     "exception": false,
     "start_time": "2024-01-27T00:37:59.566448",
     "status": "completed"
    },
    "tags": []
   },
   "source": [
    "Count the number of comments each dataset contains **(P1-1: 5 points)**"
   ]
  },
  {
   "cell_type": "code",
   "execution_count": 2,
   "id": "f9234c8e",
   "metadata": {
    "execution": {
     "iopub.execute_input": "2024-01-27T00:37:59.598620Z",
     "iopub.status.busy": "2024-01-27T00:37:59.597872Z",
     "iopub.status.idle": "2024-01-27T00:37:59.602569Z",
     "shell.execute_reply": "2024-01-27T00:37:59.601718Z"
    },
    "papermill": {
     "duration": 0.017828,
     "end_time": "2024-01-27T00:37:59.604575",
     "exception": false,
     "start_time": "2024-01-27T00:37:59.586747",
     "status": "completed"
    },
    "tags": []
   },
   "outputs": [
    {
     "name": "stdout",
     "output_type": "stream",
     "text": [
      "Snappfood Comments: 70000\n",
      "Digikala Comments: 3261\n"
     ]
    }
   ],
   "source": [
    "print(f\"Snappfood Comments: {len(snappfood_data)}\")\n",
    "print(f\"Digikala Comments: {len(digikala_data)}\")"
   ]
  },
  {
   "cell_type": "markdown",
   "id": "220cc1d3",
   "metadata": {
    "papermill": {
     "duration": 0.010064,
     "end_time": "2024-01-27T00:37:59.625207",
     "exception": false,
     "start_time": "2024-01-27T00:37:59.615143",
     "status": "completed"
    },
    "tags": []
   },
   "source": [
    "Represent the distribution of comments in the Snappfood dataset in terms of being negative or positive **(P1-2: 5 points)**"
   ]
  },
  {
   "cell_type": "code",
   "execution_count": 3,
   "id": "75c01d3b",
   "metadata": {
    "execution": {
     "iopub.execute_input": "2024-01-27T00:37:59.647005Z",
     "iopub.status.busy": "2024-01-27T00:37:59.646759Z",
     "iopub.status.idle": "2024-01-27T00:37:59.940088Z",
     "shell.execute_reply": "2024-01-27T00:37:59.939247Z"
    },
    "papermill": {
     "duration": 0.306607,
     "end_time": "2024-01-27T00:37:59.942123",
     "exception": false,
     "start_time": "2024-01-27T00:37:59.635516",
     "status": "completed"
    },
    "tags": []
   },
   "outputs": [
    {
     "data": {
      "image/png": "[encoded data removed]",
      "text/plain": [
       "<Figure size 640x480 with 1 Axes>"
      ]
     },
     "metadata": {},
     "output_type": "display_data"
    }
   ],
   "source": [
    "import matplotlib.pyplot as plt\n",
    "snappfood_data['label'].value_counts().plot(kind='bar')\n",
    "\n",
    "plt.title('Distribution of Comments in Snappfood Dataset')\n",
    "plt.xlabel('label')\n",
    "plt.ylabel('Number of Comments')\n",
    "plt.show()"
   ]
  },
  {
   "cell_type": "markdown",
   "id": "fabbf0c7",
   "metadata": {
    "papermill": {
     "duration": 0.0105,
     "end_time": "2024-01-27T00:37:59.963691",
     "exception": false,
     "start_time": "2024-01-27T00:37:59.953191",
     "status": "completed"
    },
    "tags": []
   },
   "source": [
    "Plot the logarithm of the frequency of words as a function of the logarithm of their rank to demonstrate the Zipf's law. <br>\n",
    "Note: Don't panic! The Zipf's law can be found here: https://nlp.stanford.edu/IR-book/html/htmledition/zipfs-law-modeling-the-distribution-of-terms-1.html and can be easily understood. **(P1-3: 5 points)**"
   ]
  },
  {
   "cell_type": "code",
   "execution_count": 4,
   "id": "ecffe94d",
   "metadata": {
    "execution": {
     "iopub.execute_input": "2024-01-27T00:37:59.986243Z",
     "iopub.status.busy": "2024-01-27T00:37:59.985975Z",
     "iopub.status.idle": "2024-01-27T00:38:01.372048Z",
     "shell.execute_reply": "2024-01-27T00:38:01.371188Z"
    },
    "papermill": {
     "duration": 1.399899,
     "end_time": "2024-01-27T00:38:01.374327",
     "exception": false,
     "start_time": "2024-01-27T00:37:59.974428",
     "status": "completed"
    },
    "tags": []
   },
   "outputs": [
    {
     "data": {
      "image/png": "[encoded data removed]",
      "text/plain": [
       "<Figure size 1000x600 with 1 Axes>"
      ]
     },
     "metadata": {},
     "output_type": "display_data"
    }
   ],
   "source": [
    "from collections import Counter\n",
    "import numpy as np\n",
    "all_text = ' '.join(snappfood_data['comment'])\n",
    "words = all_text.split()\n",
    "word_counts = Counter(words)\n",
    "counts = np.array(sorted(word_counts.values(), reverse=True))\n",
    "ranks = np.arange(1, len(counts) + 1)\n",
    "plt.figure(figsize=(10,6))\n",
    "plt.loglog(ranks, counts)\n",
    "plt.title(\"Zipf's Law\")\n",
    "plt.xlabel('Log(Rank)')\n",
    "plt.ylabel('Log(Frequency)')\n",
    "plt.show()"
   ]
  },
  {
   "cell_type": "markdown",
   "id": "d27f0001",
   "metadata": {
    "papermill": {
     "duration": 0.011005,
     "end_time": "2024-01-27T00:38:01.396863",
     "exception": false,
     "start_time": "2024-01-27T00:38:01.385858",
     "status": "completed"
    },
    "tags": []
   },
   "source": [
    "Add a new column to the Digikala dataset indicating whether the comment was positive, negative, or neutral. This will be needed later for classification. <br>\n",
    "Note: This can be done in many ways. You should the appropriate method. **(P1-4: 5 points)**\n"
   ]
  },
  {
   "cell_type": "code",
   "execution_count": 5,
   "id": "929106d9",
   "metadata": {
    "execution": {
     "iopub.execute_input": "2024-01-27T00:38:01.420833Z",
     "iopub.status.busy": "2024-01-27T00:38:01.420246Z",
     "iopub.status.idle": "2024-01-27T00:38:32.777134Z",
     "shell.execute_reply": "2024-01-27T00:38:32.776261Z"
    },
    "papermill": {
     "duration": 31.371119,
     "end_time": "2024-01-27T00:38:32.779184",
     "exception": false,
     "start_time": "2024-01-27T00:38:01.408065",
     "status": "completed"
    },
    "tags": []
   },
   "outputs": [
    {
     "name": "stdout",
     "output_type": "stream",
     "text": [
      "[nltk_data] Downloading package punkt to /usr/share/nltk_data...\n",
      "[nltk_data]   Package punkt is already up-to-date!\n",
      "Epoch 1/10\n",
      "82/82 [==============================] - 3s 3ms/step - loss: 0.4848 - accuracy: 0.8593\n",
      "Epoch 2/10\n",
      "82/82 [==============================] - 0s 3ms/step - loss: 0.3195 - accuracy: 0.8792\n",
      "Epoch 3/10\n",
      "82/82 [==============================] - 0s 3ms/step - loss: 0.1619 - accuracy: 0.9410\n",
      "Epoch 4/10\n",
      "82/82 [==============================] - 0s 4ms/step - loss: 0.0585 - accuracy: 0.9858\n",
      "Epoch 5/10\n",
      "82/82 [==============================] - 0s 3ms/step - loss: 0.0169 - accuracy: 0.9965\n",
      "Epoch 6/10\n",
      "82/82 [==============================] - 0s 3ms/step - loss: 0.0053 - accuracy: 0.9996\n",
      "Epoch 7/10\n",
      "82/82 [==============================] - 0s 3ms/step - loss: 0.0024 - accuracy: 1.0000\n",
      "Epoch 8/10\n",
      "82/82 [==============================] - 0s 3ms/step - loss: 0.0011 - accuracy: 1.0000\n",
      "Epoch 9/10\n",
      "82/82 [==============================] - 0s 3ms/step - loss: 7.1215e-04 - accuracy: 1.0000\n",
      "Epoch 10/10\n",
      "82/82 [==============================] - 0s 3ms/step - loss: 5.0981e-04 - accuracy: 1.0000\n",
      "21/21 [==============================] - 0s 2ms/step - loss: 0.9684 - accuracy: 0.8928\n",
      "Accuracy: 0.8928024768829346\n"
     ]
    }
   ],
   "source": [
    "import numpy as np\n",
    "import pandas as pd\n",
    "from sklearn.model_selection import train_test_split\n",
    "from sklearn.feature_extraction.text import TfidfVectorizer\n",
    "from sklearn.preprocessing import LabelEncoder\n",
    "from gensim.models import Word2Vec\n",
    "from tensorflow.keras.models import Model\n",
    "from tensorflow.keras.layers import Input, Dense, concatenate\n",
    "from tensorflow.keras.utils import to_categorical\n",
    "from tensorflow.keras.optimizers import Adam\n",
    "import nltk\n",
    "nltk.download('punkt')\n",
    "from nltk.tokenize import word_tokenize\n",
    "\n",
    "def score_to_sentiment(score):\n",
    "    if score >= 55:\n",
    "        return 'positive'\n",
    "    elif score >= 45:\n",
    "        return 'neutral'\n",
    "    else:\n",
    "        return 'negative'\n",
    "\n",
    "digikala_data['Sentiment'] = digikala_data['Score'].apply(score_to_sentiment)\n",
    "X_train, X_test, y_train, y_test = train_test_split(digikala_data['Text'], digikala_data['Sentiment'], test_size=0.2, random_state=42)\n",
    "vectorizer = TfidfVectorizer(max_features=5000)\n",
    "X_train_tfidf = vectorizer.fit_transform(X_train).toarray()\n",
    "X_test_tfidf = vectorizer.transform(X_test).toarray()\n",
    "tokenized_train = [word_tokenize(comment.lower()) for comment in X_train]\n",
    "tokenized_test = [word_tokenize(comment.lower()) for comment in X_test]\n",
    "w2v_model = Word2Vec(tokenized_train, vector_size=100, window=5, min_count=1, workers=4)\n",
    "w2v_model.train(tokenized_train, total_examples=len(tokenized_train), epochs=10)\n",
    "def document_vector(doc, model):\n",
    "    doc = [word for word in doc if word in model.wv.index_to_key]\n",
    "    return np.mean(model.wv[doc], axis=0) if len(doc) > 0 else np.zeros(model.vector_size)\n",
    "X_train_w2v = np.array([document_vector(doc, w2v_model) for doc in tokenized_train])\n",
    "X_test_w2v = np.array([document_vector(doc, w2v_model) for doc in tokenized_test])\n",
    "encoder = LabelEncoder()\n",
    "y_train_encoded = encoder.fit_transform(y_train)\n",
    "y_test_encoded = encoder.transform(y_test)\n",
    "y_train_categorical = to_categorical(y_train_encoded)\n",
    "y_test_categorical = to_categorical(y_test_encoded)\n",
    "input_tfidf = Input(shape=(X_train_tfidf.shape[1],))\n",
    "input_w2v = Input(shape=(w2v_model.vector_size,))\n",
    "layer_tfidf = Dense(128, activation='relu')(input_tfidf)\n",
    "layer_w2v = Dense(128, activation='relu')(input_w2v)\n",
    "merged = concatenate([layer_tfidf, layer_w2v])\n",
    "merged = Dense(256, activation='relu')(merged)\n",
    "output = Dense(y_train_categorical.shape[1], activation='softmax')(merged)\n",
    "model = Model(inputs=[input_tfidf, input_w2v], outputs=output)\n",
    "\n",
    "model.compile(optimizer=Adam(), loss='categorical_crossentropy', metrics=['accuracy'])\n",
    "model.fit([X_train_tfidf, X_train_w2v], y_train_categorical, epochs=10, batch_size=32)\n",
    "loss, accuracy = model.evaluate([X_test_tfidf, X_test_w2v], y_test_categorical)\n",
    "print(f'Accuracy: {accuracy}')"
   ]
  },
  {
   "cell_type": "markdown",
   "id": "0ee1dc65",
   "metadata": {
    "papermill": {
     "duration": 0.016991,
     "end_time": "2024-01-27T00:38:32.858208",
     "exception": false,
     "start_time": "2024-01-27T00:38:32.841217",
     "status": "completed"
    },
    "tags": []
   },
   "source": [
    "Split each dataset into training, testing, and validation sets. **(P1-5: 5 points)**"
   ]
  },
  {
   "cell_type": "code",
   "execution_count": 6,
   "id": "38c3fe0c",
   "metadata": {
    "execution": {
     "iopub.execute_input": "2024-01-27T00:38:32.894221Z",
     "iopub.status.busy": "2024-01-27T00:38:32.893549Z",
     "iopub.status.idle": "2024-01-27T00:38:32.914331Z",
     "shell.execute_reply": "2024-01-27T00:38:32.913587Z"
    },
    "papermill": {
     "duration": 0.040954,
     "end_time": "2024-01-27T00:38:32.916300",
     "exception": false,
     "start_time": "2024-01-27T00:38:32.875346",
     "status": "completed"
    },
    "tags": []
   },
   "outputs": [],
   "source": [
    "train_snappfood, test_snappfood = train_test_split(snappfood_data, test_size=0.3, random_state=42)\n",
    "val_snappfood, test_snappfood = train_test_split(test_snappfood, test_size=0.5, random_state=42)\n",
    "train_digikala, test_digikala = train_test_split(digikala_data, test_size=0.3, random_state=42)\n",
    "val_digikala, test_digikala = train_test_split(test_digikala, test_size=0.5, random_state=42)"
   ]
  },
  {
   "cell_type": "markdown",
   "id": "1482c5e2",
   "metadata": {
    "papermill": {
     "duration": 0.016844,
     "end_time": "2024-01-27T00:38:32.950387",
     "exception": false,
     "start_time": "2024-01-27T00:38:32.933543",
     "status": "completed"
    },
    "tags": []
   },
   "source": [
    "# P2: Preprocessing and Feature Extraction (20 points)"
   ]
  },
  {
   "cell_type": "markdown",
   "id": "b7f3a2ef",
   "metadata": {
    "papermill": {
     "duration": 0.016903,
     "end_time": "2024-01-27T00:38:32.984244",
     "exception": false,
     "start_time": "2024-01-27T00:38:32.967341",
     "status": "completed"
    },
    "tags": []
   },
   "source": [
    "The goal of this part is to make the Snappfood dataset ready for the neural network to be trained with.<br>\n",
    "Note: You can use many libraries including `NLTK`, `Spacy`, `Hazm`, `Parsivar`, `Stanza` etc."
   ]
  },
  {
   "cell_type": "markdown",
   "id": "d64c3383",
   "metadata": {
    "papermill": {
     "duration": 0.0168,
     "end_time": "2024-01-27T00:38:33.018020",
     "exception": false,
     "start_time": "2024-01-27T00:38:33.001220",
     "status": "completed"
    },
    "tags": []
   },
   "source": [
    "Remove the unnecessary characters of the dataset. <br>\n",
    "**(P2-1: 5 points)**"
   ]
  },
  {
   "cell_type": "code",
   "execution_count": 7,
   "id": "26c5509b",
   "metadata": {
    "execution": {
     "iopub.execute_input": "2024-01-27T00:38:33.053513Z",
     "iopub.status.busy": "2024-01-27T00:38:33.053222Z",
     "iopub.status.idle": "2024-01-27T00:38:51.274311Z",
     "shell.execute_reply": "2024-01-27T00:38:51.273460Z"
    },
    "papermill": {
     "duration": 18.241631,
     "end_time": "2024-01-27T00:38:51.276661",
     "exception": false,
     "start_time": "2024-01-27T00:38:33.035030",
     "status": "completed"
    },
    "tags": []
   },
   "outputs": [
    {
     "name": "stdout",
     "output_type": "stream",
     "text": [
      "Collecting hazm\r\n",
      "  Obtaining dependency information for hazm from https://files.pythonhosted.org/packages/91/8c/cc3d01c27681eb8223781ea162a23f9926647ce864eb601a19aee4bce0af/hazm-0.10.0-py3-none-any.whl.metadata\r\n",
      "  Downloading hazm-0.10.0-py3-none-any.whl.metadata (11 kB)\r\n",
      "Collecting fasttext-wheel<0.10.0,>=0.9.2 (from hazm)\r\n",
      "  Downloading fasttext_wheel-0.9.2-cp310-cp310-manylinux_2_17_x86_64.manylinux2014_x86_64.whl (4.4 MB)\r\n",
      "\u001b[2K     \u001b[90m━━━━━━━━━━━━━━━━━━━━━━━━━━━━━━━━━━━━━━━━\u001b[0m \u001b[32m4.4/4.4 MB\u001b[0m \u001b[31m53.4 MB/s\u001b[0m eta \u001b[36m0:00:00\u001b[0m\r\n",
      "\u001b[?25hRequirement already satisfied: flashtext<3.0,>=2.7 in /opt/conda/lib/python3.10/site-packages (from hazm) (2.7)\r\n",
      "Requirement already satisfied: gensim<5.0.0,>=4.3.1 in /opt/conda/lib/python3.10/site-packages (from hazm) (4.3.2)\r\n",
      "Collecting nltk<4.0.0,>=3.8.1 (from hazm)\r\n",
      "  Downloading nltk-3.8.1-py3-none-any.whl (1.5 MB)\r\n",
      "\u001b[2K     \u001b[90m━━━━━━━━━━━━━━━━━━━━━━━━━━━━━━━━━━━━━━━━\u001b[0m \u001b[32m1.5/1.5 MB\u001b[0m \u001b[31m68.2 MB/s\u001b[0m eta \u001b[36m0:00:00\u001b[0m\r\n",
      "\u001b[?25hRequirement already satisfied: numpy==1.24.3 in /opt/conda/lib/python3.10/site-packages (from hazm) (1.24.3)\r\n",
      "Collecting python-crfsuite<0.10.0,>=0.9.9 (from hazm)\r\n",
      "  Obtaining dependency information for python-crfsuite<0.10.0,>=0.9.9 from https://files.pythonhosted.org/packages/38/1d/c475ba7d11e9735f00eb08e2f5315aa2e21c24cc85a0474c3fd425edef58/python_crfsuite-0.9.10-cp310-cp310-manylinux_2_17_x86_64.manylinux2014_x86_64.whl.metadata\r\n",
      "  Downloading python_crfsuite-0.9.10-cp310-cp310-manylinux_2_17_x86_64.manylinux2014_x86_64.whl.metadata (4.2 kB)\r\n",
      "Requirement already satisfied: scikit-learn<2.0.0,>=1.2.2 in /opt/conda/lib/python3.10/site-packages (from hazm) (1.2.2)\r\n",
      "Requirement already satisfied: pybind11>=2.2 in /opt/conda/lib/python3.10/site-packages (from fasttext-wheel<0.10.0,>=0.9.2->hazm) (2.11.1)\r\n",
      "Requirement already satisfied: setuptools>=0.7.0 in /opt/conda/lib/python3.10/site-packages (from fasttext-wheel<0.10.0,>=0.9.2->hazm) (68.1.2)\r\n",
      "Requirement already satisfied: scipy>=1.7.0 in /opt/conda/lib/python3.10/site-packages (from gensim<5.0.0,>=4.3.1->hazm) (1.11.4)\r\n",
      "Requirement already satisfied: smart-open>=1.8.1 in /opt/conda/lib/python3.10/site-packages (from gensim<5.0.0,>=4.3.1->hazm) (6.3.0)\r\n",
      "Requirement already satisfied: click in /opt/conda/lib/python3.10/site-packages (from nltk<4.0.0,>=3.8.1->hazm) (8.1.7)\r\n",
      "Requirement already satisfied: joblib in /opt/conda/lib/python3.10/site-packages (from nltk<4.0.0,>=3.8.1->hazm) (1.3.2)\r\n",
      "Requirement already satisfied: regex>=2021.8.3 in /opt/conda/lib/python3.10/site-packages (from nltk<4.0.0,>=3.8.1->hazm) (2023.8.8)\r\n",
      "Requirement already satisfied: tqdm in /opt/conda/lib/python3.10/site-packages (from nltk<4.0.0,>=3.8.1->hazm) (4.66.1)\r\n",
      "Requirement already satisfied: threadpoolctl>=2.0.0 in /opt/conda/lib/python3.10/site-packages (from scikit-learn<2.0.0,>=1.2.2->hazm) (3.2.0)\r\n",
      "Downloading hazm-0.10.0-py3-none-any.whl (892 kB)\r\n",
      "\u001b[2K   \u001b[90m━━━━━━━━━━━━━━━━━━━━━━━━━━━━━━━━━━━━━━━━\u001b[0m \u001b[32m892.6/892.6 kB\u001b[0m \u001b[31m59.4 MB/s\u001b[0m eta \u001b[36m0:00:00\u001b[0m\r\n",
      "\u001b[?25hDownloading python_crfsuite-0.9.10-cp310-cp310-manylinux_2_17_x86_64.manylinux2014_x86_64.whl (1.1 MB)\r\n",
      "\u001b[2K   \u001b[90m━━━━━━━━━━━━━━━━━━━━━━━━━━━━━━━━━━━━━━━━\u001b[0m \u001b[32m1.1/1.1 MB\u001b[0m \u001b[31m63.5 MB/s\u001b[0m eta \u001b[36m0:00:00\u001b[0m\r\n",
      "\u001b[?25hInstalling collected packages: python-crfsuite, nltk, fasttext-wheel, hazm\r\n",
      "  Attempting uninstall: nltk\r\n",
      "    Found existing installation: nltk 3.2.4\r\n",
      "    Uninstalling nltk-3.2.4:\r\n",
      "      Successfully uninstalled nltk-3.2.4\r\n",
      "\u001b[31mERROR: pip's dependency resolver does not currently take into account all the packages that are installed. This behaviour is the source of the following dependency conflicts.\r\n",
      "preprocessing 0.1.13 requires nltk==3.2.4, but you have nltk 3.8.1 which is incompatible.\u001b[0m\u001b[31m\r\n",
      "\u001b[0mSuccessfully installed fasttext-wheel-0.9.2 hazm-0.10.0 nltk-3.8.1 python-crfsuite-0.9.10\r\n"
     ]
    }
   ],
   "source": [
    "import re\n",
    "import pandas as pd\n",
    "!pip install hazm\n",
    "\n",
    "\n",
    "from hazm import Normalizer\n",
    "\n",
    "normalizer = Normalizer()\n",
    "\n",
    "def clean_text(text):\n",
    "    text = re.sub(r'[^\\w\\s]', '', text)\n",
    "    text = re.sub(r'\\d+', '', text)\n",
    "    text = text.strip()\n",
    "    return text\n",
    "snappfood_data['comment'] = snappfood_data['comment'].apply(clean_text)"
   ]
  },
  {
   "cell_type": "markdown",
   "id": "5e5b7942",
   "metadata": {
    "papermill": {
     "duration": 0.018525,
     "end_time": "2024-01-27T00:38:51.314520",
     "exception": false,
     "start_time": "2024-01-27T00:38:51.295995",
     "status": "completed"
    },
    "tags": []
   },
   "source": [
    "Normalize the dataset. <br>\n",
    "Note: Check the result. For instance, if you do this correctly, you'll have a dataset containing just 1 type of space. **(P2-2: 5 points)**"
   ]
  },
  {
   "cell_type": "code",
   "execution_count": 8,
   "id": "7855c1d6",
   "metadata": {
    "execution": {
     "iopub.execute_input": "2024-01-27T00:38:51.353422Z",
     "iopub.status.busy": "2024-01-27T00:38:51.353071Z",
     "iopub.status.idle": "2024-01-27T00:39:17.597753Z",
     "shell.execute_reply": "2024-01-27T00:39:17.596736Z"
    },
    "papermill": {
     "duration": 26.266947,
     "end_time": "2024-01-27T00:39:17.600175",
     "exception": false,
     "start_time": "2024-01-27T00:38:51.333228",
     "status": "completed"
    },
    "tags": []
   },
   "outputs": [],
   "source": [
    "def normalize_text(text):\n",
    "    return normalizer.normalize(text)\n",
    "snappfood_data['comment'] = snappfood_data['comment'].apply(normalize_text)\n"
   ]
  },
  {
   "cell_type": "markdown",
   "id": "58fd97a5",
   "metadata": {
    "papermill": {
     "duration": 0.018521,
     "end_time": "2024-01-27T00:39:17.638147",
     "exception": false,
     "start_time": "2024-01-27T00:39:17.619626",
     "status": "completed"
    },
    "tags": []
   },
   "source": [
    "If you want to include other preprocessing steps, put all of your code here."
   ]
  },
  {
   "cell_type": "code",
   "execution_count": 9,
   "id": "3e505920",
   "metadata": {
    "execution": {
     "iopub.execute_input": "2024-01-27T00:39:17.677066Z",
     "iopub.status.busy": "2024-01-27T00:39:17.676371Z",
     "iopub.status.idle": "2024-01-27T00:44:24.897593Z",
     "shell.execute_reply": "2024-01-27T00:44:24.896727Z"
    },
    "papermill": {
     "duration": 307.243365,
     "end_time": "2024-01-27T00:44:24.900126",
     "exception": false,
     "start_time": "2024-01-27T00:39:17.656761",
     "status": "completed"
    },
    "tags": []
   },
   "outputs": [],
   "source": [
    "from hazm import Normalizer, word_tokenize, stopwords_list, Stemmer\n",
    "stemmer = Stemmer()\n",
    "\n",
    "def preprocess_text(text):\n",
    "    words = word_tokenize(text)\n",
    "    words = [word for word in words if word not in stopwords_list()]\n",
    "    words = [stemmer.stem(word) for word in words]\n",
    "    text = ' '.join(words)\n",
    "    return text\n",
    "\n",
    "snappfood_data['comment'] = snappfood_data['comment'].apply(preprocess_text)"
   ]
  },
  {
   "cell_type": "markdown",
   "id": "20bca6ef",
   "metadata": {
    "papermill": {
     "duration": 0.018453,
     "end_time": "2024-01-27T00:44:24.937902",
     "exception": false,
     "start_time": "2024-01-27T00:44:24.919449",
     "status": "completed"
    },
    "tags": []
   },
   "source": [
    "Extract features from the Snappfood dataset\n",
    "<br> Note: You should use both of the following methods, and compare the results at the end.\n",
    "- Method 1 (Classic): Use `CountVectorizer` or `TF-IDF`.\n",
    "- Method 2 (Modern): Use `Word2Vec`, `FastText`, `GloVe`, `Doc2Vec` or train your own `Embedding` Layer. \n",
    "\n",
    "If you choose to train your own `Embedding`s, you'll just need to specify an ID for each word remaining in your dataset. **(P2-3: 10 points)**"
   ]
  },
  {
   "cell_type": "code",
   "execution_count": 10,
   "id": "0cb4e159",
   "metadata": {
    "execution": {
     "iopub.execute_input": "2024-01-27T00:44:24.976689Z",
     "iopub.status.busy": "2024-01-27T00:44:24.976375Z",
     "iopub.status.idle": "2024-01-27T00:44:58.329297Z",
     "shell.execute_reply": "2024-01-27T00:44:58.328131Z"
    },
    "papermill": {
     "duration": 33.375048,
     "end_time": "2024-01-27T00:44:58.331798",
     "exception": false,
     "start_time": "2024-01-27T00:44:24.956750",
     "status": "completed"
    },
    "tags": []
   },
   "outputs": [],
   "source": [
    "tfidf_vectorizer = TfidfVectorizer(max_features=5000)\n",
    "tfidf_features = tfidf_vectorizer.fit_transform(snappfood_data['comment'])\n",
    "\n",
    "tokenized_comments = [comment.split() for comment in snappfood_data['comment']]\n",
    "w2v_model = Word2Vec(tokenized_comments, vector_size=100, window=5, min_count=1, workers=4)\n",
    "w2v_model.train(tokenized_comments, total_examples=len(tokenized_comments), epochs=10)\n",
    "def comment_vector(comment, model):\n",
    "    words = [word for word in comment if word in model.wv.index_to_key]\n",
    "    if len(words) >= 1:\n",
    "        return np.mean(model.wv[words], axis=0)\n",
    "    else:\n",
    "        return np.zeros(model.vector_size)\n",
    "\n",
    "w2v_features = np.array([comment_vector(comment, w2v_model) for comment in tokenized_comments])"
   ]
  },
  {
   "cell_type": "markdown",
   "id": "c4003f38",
   "metadata": {
    "papermill": {
     "duration": 0.018715,
     "end_time": "2024-01-27T00:44:58.369963",
     "exception": false,
     "start_time": "2024-01-27T00:44:58.351248",
     "status": "completed"
    },
    "tags": []
   },
   "source": [
    "# P3: Training and Initial Evaluation (20 points)"
   ]
  },
  {
   "cell_type": "markdown",
   "id": "e8afeb07",
   "metadata": {
    "papermill": {
     "duration": 0.01854,
     "end_time": "2024-01-27T00:44:58.407372",
     "exception": false,
     "start_time": "2024-01-27T00:44:58.388832",
     "status": "completed"
    },
    "tags": []
   },
   "source": [
    "Define an architecture for your neural network. **(P3-1: 5 points)**"
   ]
  },
  {
   "cell_type": "code",
   "execution_count": 11,
   "id": "1d0eaec3",
   "metadata": {
    "execution": {
     "iopub.execute_input": "2024-01-27T00:44:58.448454Z",
     "iopub.status.busy": "2024-01-27T00:44:58.447356Z",
     "iopub.status.idle": "2024-01-27T00:44:58.557438Z",
     "shell.execute_reply": "2024-01-27T00:44:58.556448Z"
    },
    "papermill": {
     "duration": 0.134214,
     "end_time": "2024-01-27T00:44:58.560141",
     "exception": false,
     "start_time": "2024-01-27T00:44:58.425927",
     "status": "completed"
    },
    "tags": []
   },
   "outputs": [],
   "source": [
    "from tensorflow.keras.models import Sequential\n",
    "from tensorflow.keras.layers import Dense, Dropout\n",
    "from sklearn.metrics import classification_report, accuracy_score\n",
    "def build_model(input_dim):\n",
    "    model = Sequential()\n",
    "    model.add(Dense(128, input_dim=input_dim, activation='relu'))\n",
    "    model.add(Dropout(0.5))\n",
    "    model.add(Dense(64, activation='relu'))\n",
    "    model.add(Dropout(0.5))\n",
    "    model.add(Dense(1, activation='sigmoid'))\n",
    "\n",
    "    model.compile(optimizer='adam', loss='binary_crossentropy', metrics=['accuracy'])\n",
    "    return model\n",
    "\n",
    "model_tfidf = build_model(input_dim=tfidf_features.shape[1])\n",
    "model_word2vec = build_model(input_dim=w2v_features.shape[1])"
   ]
  },
  {
   "cell_type": "markdown",
   "id": "47ba8268",
   "metadata": {
    "papermill": {
     "duration": 0.022647,
     "end_time": "2024-01-27T00:44:58.602847",
     "exception": false,
     "start_time": "2024-01-27T00:44:58.580200",
     "status": "completed"
    },
    "tags": []
   },
   "source": [
    "Train the network on the Snappfood dataset, while monitoring its performance on the validation set. **(P3-2: 5 points)**"
   ]
  },
  {
   "cell_type": "code",
   "execution_count": 12,
   "id": "4bfaeebd",
   "metadata": {
    "execution": {
     "iopub.execute_input": "2024-01-27T00:44:58.650239Z",
     "iopub.status.busy": "2024-01-27T00:44:58.649926Z",
     "iopub.status.idle": "2024-01-27T00:50:03.872332Z",
     "shell.execute_reply": "2024-01-27T00:50:03.871453Z"
    },
    "papermill": {
     "duration": 305.250638,
     "end_time": "2024-01-27T00:50:03.874398",
     "exception": false,
     "start_time": "2024-01-27T00:44:58.623760",
     "status": "completed"
    },
    "tags": []
   },
   "outputs": [
    {
     "name": "stdout",
     "output_type": "stream",
     "text": [
      "Epoch 1/10\n",
      "1532/1532 [==============================] - 8s 4ms/step - loss: 0.3811 - accuracy: 0.8333 - val_loss: 0.3402 - val_accuracy: 0.8516\n",
      "Epoch 2/10\n",
      "1532/1532 [==============================] - 5s 3ms/step - loss: 0.3115 - accuracy: 0.8686 - val_loss: 0.3454 - val_accuracy: 0.8517\n",
      "Epoch 3/10\n",
      "1532/1532 [==============================] - 5s 3ms/step - loss: 0.2806 - accuracy: 0.8853 - val_loss: 0.3562 - val_accuracy: 0.8528\n",
      "Epoch 4/10\n",
      "1532/1532 [==============================] - 5s 3ms/step - loss: 0.2488 - accuracy: 0.9019 - val_loss: 0.3746 - val_accuracy: 0.8518\n",
      "Epoch 5/10\n",
      "1532/1532 [==============================] - 5s 3ms/step - loss: 0.2124 - accuracy: 0.9186 - val_loss: 0.4144 - val_accuracy: 0.8456\n",
      "Epoch 6/10\n",
      "1532/1532 [==============================] - 5s 3ms/step - loss: 0.1830 - accuracy: 0.9305 - val_loss: 0.4391 - val_accuracy: 0.8415\n",
      "Epoch 7/10\n",
      "1532/1532 [==============================] - 5s 3ms/step - loss: 0.1552 - accuracy: 0.9418 - val_loss: 0.4953 - val_accuracy: 0.8411\n",
      "Epoch 8/10\n",
      "1532/1532 [==============================] - 5s 3ms/step - loss: 0.1370 - accuracy: 0.9497 - val_loss: 0.5332 - val_accuracy: 0.8430\n",
      "Epoch 9/10\n",
      "1532/1532 [==============================] - 5s 3ms/step - loss: 0.1198 - accuracy: 0.9540 - val_loss: 0.5991 - val_accuracy: 0.8404\n",
      "Epoch 10/10\n",
      "1532/1532 [==============================] - 5s 3ms/step - loss: 0.1048 - accuracy: 0.9617 - val_loss: 0.6394 - val_accuracy: 0.8377\n",
      "Epoch 1/10\n",
      "1532/1532 [==============================] - 6s 3ms/step - loss: 0.4718 - accuracy: 0.7857 - val_loss: 0.4231 - val_accuracy: 0.8091\n",
      "Epoch 2/10\n",
      "1532/1532 [==============================] - 5s 3ms/step - loss: 0.4392 - accuracy: 0.8047 - val_loss: 0.4140 - val_accuracy: 0.8131\n",
      "Epoch 3/10\n",
      "1532/1532 [==============================] - 5s 3ms/step - loss: 0.4298 - accuracy: 0.8090 - val_loss: 0.4088 - val_accuracy: 0.8139\n",
      "Epoch 4/10\n",
      "1532/1532 [==============================] - 5s 3ms/step - loss: 0.4241 - accuracy: 0.8094 - val_loss: 0.4057 - val_accuracy: 0.8170\n",
      "Epoch 5/10\n",
      "1532/1532 [==============================] - 5s 3ms/step - loss: 0.4194 - accuracy: 0.8127 - val_loss: 0.4054 - val_accuracy: 0.8143\n",
      "Epoch 6/10\n",
      "1532/1532 [==============================] - 5s 3ms/step - loss: 0.4174 - accuracy: 0.8127 - val_loss: 0.4023 - val_accuracy: 0.8180\n",
      "Epoch 7/10\n",
      "1532/1532 [==============================] - 5s 3ms/step - loss: 0.4136 - accuracy: 0.8161 - val_loss: 0.4034 - val_accuracy: 0.8173\n",
      "Epoch 8/10\n",
      "1532/1532 [==============================] - 5s 3ms/step - loss: 0.4114 - accuracy: 0.8160 - val_loss: 0.3995 - val_accuracy: 0.8207\n",
      "Epoch 9/10\n",
      "1532/1532 [==============================] - 5s 3ms/step - loss: 0.4101 - accuracy: 0.8169 - val_loss: 0.4019 - val_accuracy: 0.8181\n",
      "Epoch 10/10\n",
      "1532/1532 [==============================] - 5s 3ms/step - loss: 0.4063 - accuracy: 0.8174 - val_loss: 0.4004 - val_accuracy: 0.8176\n"
     ]
    },
    {
     "data": {
      "image/png": "[encoded data removed]",
      "text/plain": [
       "<Figure size 640x480 with 1 Axes>"
      ]
     },
     "metadata": {},
     "output_type": "display_data"
    },
    {
     "data": {
      "image/png": "[encoded data removed]",
      "text/plain": [
       "<Figure size 640x480 with 1 Axes>"
      ]
     },
     "metadata": {},
     "output_type": "display_data"
    },
    {
     "data": {
      "image/png": "[encoded data removed]",
      "text/plain": [
       "<Figure size 640x480 with 1 Axes>"
      ]
     },
     "metadata": {},
     "output_type": "display_data"
    },
    {
     "data": {
      "image/png": "[encoded data removed]",
      "text/plain": [
       "<Figure size 640x480 with 1 Axes>"
      ]
     },
     "metadata": {},
     "output_type": "display_data"
    }
   ],
   "source": [
    "X_train_tfidf = tfidf_vectorizer.fit_transform(train_snappfood['comment']).toarray()\n",
    "y_train_tfidf = train_snappfood['label_id'].values\n",
    "X_val_tfidf = tfidf_vectorizer.transform(val_snappfood['comment']).toarray()\n",
    "y_val_tfidf = val_snappfood['label_id'].values\n",
    "\n",
    "train_snappfood['tokenized_comment'] = train_snappfood['comment'].apply(word_tokenize)\n",
    "val_snappfood['tokenized_comment'] = val_snappfood['comment'].apply(word_tokenize)\n",
    "X_train_w2v = np.array([comment_vector(comment, w2v_model) for comment in train_snappfood['tokenized_comment']])\n",
    "X_val_w2v = np.array([comment_vector(comment, w2v_model) for comment in val_snappfood['tokenized_comment']])\n",
    "y_train_w2v = train_snappfood['label_id'].values\n",
    "y_val_w2v = val_snappfood['label_id'].values\n",
    "\n",
    "model_tfidf = build_model(input_dim=X_train_tfidf.shape[1])\n",
    "history_tfidf = model_tfidf.fit(X_train_tfidf, y_train_tfidf, epochs=10, batch_size=32, validation_data=(X_val_tfidf, y_val_tfidf))\n",
    "\n",
    "model_w2v = build_model(input_dim=X_train_w2v.shape[1])\n",
    "history_w2v = model_w2v.fit(np.array(X_train_w2v), y_train_w2v, epochs=10, batch_size=32, validation_data=(np.array(X_val_w2v), y_val_w2v))\n",
    "\n",
    "plt.plot(history_tfidf.history['accuracy'], label='Training Accuracy')\n",
    "plt.plot(history_tfidf.history['val_accuracy'], label='Validation Accuracy')\n",
    "plt.title('Model accuracy')\n",
    "plt.ylabel('Accuracy')\n",
    "plt.xlabel('Epoch')\n",
    "plt.legend()\n",
    "plt.show()\n",
    "\n",
    "plt.plot(history_tfidf.history['loss'], label='Training Loss')\n",
    "plt.plot(history_tfidf.history['val_loss'], label='Validation Loss')\n",
    "plt.title('Model loss')\n",
    "plt.ylabel('Loss')\n",
    "plt.xlabel('Epoch')\n",
    "plt.legend()\n",
    "plt.show()\n",
    "\n",
    "plt.plot(history_w2v.history['accuracy'], label='Training Accuracy')\n",
    "plt.plot(history_w2v.history['val_accuracy'], label='Validation Accuracy')\n",
    "plt.title('Model accuracy')\n",
    "plt.ylabel('Accuracy')\n",
    "plt.xlabel('Epoch')\n",
    "plt.legend()\n",
    "plt.show()\n",
    "\n",
    "plt.plot(history_w2v.history['loss'], label='Training Loss')\n",
    "plt.plot(history_w2v.history['val_loss'], label='Validation Loss')\n",
    "plt.title('Model loss')\n",
    "plt.ylabel('Loss')\n",
    "plt.xlabel('Epoch')\n",
    "plt.legend()\n",
    "plt.show()\n"
   ]
  },
  {
   "cell_type": "markdown",
   "id": "5066e06b",
   "metadata": {
    "papermill": {
     "duration": 0.157734,
     "end_time": "2024-01-27T00:50:04.191497",
     "exception": false,
     "start_time": "2024-01-27T00:50:04.033763",
     "status": "completed"
    },
    "tags": []
   },
   "source": [
    "Evaluate the performance of your network on the Snappfood testing set. **(P3-3: 5 points)**"
   ]
  },
  {
   "cell_type": "code",
   "execution_count": 13,
   "id": "53a09664",
   "metadata": {
    "execution": {
     "iopub.execute_input": "2024-01-27T00:50:04.510995Z",
     "iopub.status.busy": "2024-01-27T00:50:04.510653Z",
     "iopub.status.idle": "2024-01-27T00:50:41.235673Z",
     "shell.execute_reply": "2024-01-27T00:50:41.234350Z"
    },
    "papermill": {
     "duration": 36.886023,
     "end_time": "2024-01-27T00:50:41.238202",
     "exception": false,
     "start_time": "2024-01-27T00:50:04.352179",
     "status": "completed"
    },
    "tags": []
   },
   "outputs": [
    {
     "name": "stdout",
     "output_type": "stream",
     "text": [
      "329/329 [==============================] - 1s 1ms/step\n",
      "329/329 [==============================] - 1s 2ms/step\n",
      "Performance with TF-IDF Features:\n",
      "              precision    recall  f1-score   support\n",
      "\n",
      "           0       0.84      0.82      0.83      5215\n",
      "           1       0.83      0.84      0.84      5285\n",
      "\n",
      "    accuracy                           0.83     10500\n",
      "   macro avg       0.83      0.83      0.83     10500\n",
      "weighted avg       0.83      0.83      0.83     10500\n",
      "\n",
      "Accuracy: 0.8331428571428572\n",
      "Performance with Word2Vec Features:\n",
      "              precision    recall  f1-score   support\n",
      "\n",
      "           0       0.87      0.74      0.80      5215\n",
      "           1       0.78      0.89      0.83      5285\n",
      "\n",
      "    accuracy                           0.82     10500\n",
      "   macro avg       0.82      0.82      0.82     10500\n",
      "weighted avg       0.82      0.82      0.82     10500\n",
      "\n",
      "Accuracy: 0.8173333333333334\n"
     ]
    }
   ],
   "source": [
    "X_test_tfidf = tfidf_vectorizer.transform(test_snappfood['comment']).toarray()\n",
    "y_test_tfidf = test_snappfood['label_id'].values\n",
    "test_snappfood['tokenized_comment'] = test_snappfood['comment'].apply(word_tokenize)\n",
    "X_test_w2v = np.array([comment_vector(comment, w2v_model) for comment in test_snappfood['tokenized_comment']])\n",
    "y_test_w2v = test_snappfood['label_id'].values\n",
    "predictions_tfidf = model_tfidf.predict(X_test_tfidf)\n",
    "predictions_w2v = model_w2v.predict(np.array(X_test_w2v))\n",
    "\n",
    "predictions_tfidf_binary = (predictions_tfidf > 0.5).astype(int)\n",
    "print(\"Performance with TF-IDF Features:\")\n",
    "print(classification_report(y_test_tfidf, predictions_tfidf_binary))\n",
    "print(\"Accuracy:\", accuracy_score(y_test_tfidf, predictions_tfidf_binary))\n",
    "\n",
    "predictions_w2v_binary = (predictions_w2v > 0.5).astype(int)\n",
    "print(\"Performance with Word2Vec Features:\")\n",
    "print(classification_report(y_test_w2v, predictions_w2v_binary))\n",
    "print(\"Accuracy:\", accuracy_score(y_test_w2v, predictions_w2v_binary))\n",
    "\n"
   ]
  },
  {
   "cell_type": "markdown",
   "id": "45a7565d",
   "metadata": {
    "papermill": {
     "duration": 0.162012,
     "end_time": "2024-01-27T00:50:41.576939",
     "exception": false,
     "start_time": "2024-01-27T00:50:41.414927",
     "status": "completed"
    },
    "tags": []
   },
   "source": [
    "Save the weights of the neural network and its architecture seperately in the notebook's output folder (`/kaggle/working/`). **(P3-4: 5 points)**"
   ]
  },
  {
   "cell_type": "code",
   "execution_count": 14,
   "id": "498f8d74",
   "metadata": {
    "execution": {
     "iopub.execute_input": "2024-01-27T00:50:41.927763Z",
     "iopub.status.busy": "2024-01-27T00:50:41.927346Z",
     "iopub.status.idle": "2024-01-27T00:50:41.962115Z",
     "shell.execute_reply": "2024-01-27T00:50:41.961294Z"
    },
    "papermill": {
     "duration": 0.225877,
     "end_time": "2024-01-27T00:50:41.964118",
     "exception": false,
     "start_time": "2024-01-27T00:50:41.738241",
     "status": "completed"
    },
    "tags": []
   },
   "outputs": [],
   "source": [
    "model_tfidf.save_weights('/kaggle/working/model_tfidf_weights.h5')\n",
    "model_tfidf_json = model_tfidf.to_json()\n",
    "with open(\"/kaggle/working/model_tfidf_architecture.json\", \"w\") as json_file:\n",
    "    json_file.write(model_tfidf_json)\n",
    "    \n",
    "model_w2v.save_weights('/kaggle/working/model_w2v_weights.h5')\n",
    "model_w2v_json = model_w2v.to_json()\n",
    "with open(\"/kaggle/working/model_w2v_architecture.json\", \"w\") as json_file:\n",
    "    json_file.write(model_w2v_json)"
   ]
  },
  {
   "cell_type": "markdown",
   "id": "621844ab",
   "metadata": {
    "papermill": {
     "duration": 0.161222,
     "end_time": "2024-01-27T00:50:42.288184",
     "exception": false,
     "start_time": "2024-01-27T00:50:42.126962",
     "status": "completed"
    },
    "tags": []
   },
   "source": [
    "# P4: Fine-tuning and Evaluation (35 points)"
   ]
  },
  {
   "cell_type": "markdown",
   "id": "d5cb425b",
   "metadata": {
    "papermill": {
     "duration": 0.16489,
     "end_time": "2024-01-27T00:50:42.639054",
     "exception": false,
     "start_time": "2024-01-27T00:50:42.474164",
     "status": "completed"
    },
    "tags": []
   },
   "source": [
    "In this part, we will fine-tune the previously trained network on the comments extracted from Digikala."
   ]
  },
  {
   "cell_type": "markdown",
   "id": "7ed9b09c",
   "metadata": {
    "papermill": {
     "duration": 0.203242,
     "end_time": "2024-01-27T00:50:43.002365",
     "exception": false,
     "start_time": "2024-01-27T00:50:42.799123",
     "status": "completed"
    },
    "tags": []
   },
   "source": [
    "Load the neural network along with its weights **(P4-1: 5 points)**"
   ]
  },
  {
   "cell_type": "code",
   "execution_count": 15,
   "id": "fd3bbe85",
   "metadata": {
    "execution": {
     "iopub.execute_input": "2024-01-27T00:50:43.322345Z",
     "iopub.status.busy": "2024-01-27T00:50:43.321475Z",
     "iopub.status.idle": "2024-01-27T00:50:43.427484Z",
     "shell.execute_reply": "2024-01-27T00:50:43.426551Z"
    },
    "papermill": {
     "duration": 0.267714,
     "end_time": "2024-01-27T00:50:43.429491",
     "exception": false,
     "start_time": "2024-01-27T00:50:43.161777",
     "status": "completed"
    },
    "tags": []
   },
   "outputs": [],
   "source": [
    "with open('/kaggle/working/model_tfidf_architecture.json', 'r') as json_file:\n",
    "    loaded_model_tfidf_json = json_file.read()\n",
    "loaded_model_tfidf = model_from_json(loaded_model_tfidf_json)\n",
    "loaded_model_tfidf.load_weights('/kaggle/working/model_tfidf_weights.h5')\n",
    "\n",
    "with open('/kaggle/working/model_w2v_architecture.json', 'r') as json_file:\n",
    "    loaded_model_w2v_json = json_file.read()\n",
    "loaded_model_w2v = model_from_json(loaded_model_w2v_json)\n",
    "loaded_model_w2v.load_weights('/kaggle/working/model_w2v_weights.h5')"
   ]
  },
  {
   "cell_type": "markdown",
   "id": "22009a39",
   "metadata": {
    "papermill": {
     "duration": 0.158313,
     "end_time": "2024-01-27T00:50:43.748301",
     "exception": false,
     "start_time": "2024-01-27T00:50:43.589988",
     "status": "completed"
    },
    "tags": []
   },
   "source": [
    "Change the architecture of the network (the last layer) to make it appropriate for classifying the sentiment of a comment in one of the previously mentioned three classes: positive, negative, or neutral. **(P4-2: 5 points)**"
   ]
  },
  {
   "cell_type": "code",
   "execution_count": 16,
   "id": "6c2e3e0c",
   "metadata": {
    "execution": {
     "iopub.execute_input": "2024-01-27T00:50:44.067644Z",
     "iopub.status.busy": "2024-01-27T00:50:44.066985Z",
     "iopub.status.idle": "2024-01-27T00:50:44.111437Z",
     "shell.execute_reply": "2024-01-27T00:50:44.110574Z"
    },
    "papermill": {
     "duration": 0.206668,
     "end_time": "2024-01-27T00:50:44.113381",
     "exception": false,
     "start_time": "2024-01-27T00:50:43.906713",
     "status": "completed"
    },
    "tags": []
   },
   "outputs": [],
   "source": [
    "model_tfidf.pop()\n",
    "new_output_tfidf = Dense(3, activation='softmax')(model_tfidf.layers[-1].output)\n",
    "new_model_tfidf = Model(inputs=model_tfidf.input, outputs=new_output_tfidf)\n",
    "new_model_tfidf.compile(optimizer='adam', loss='categorical_crossentropy', metrics=['accuracy'])\n",
    "\n",
    "model_w2v.pop()\n",
    "new_output_w2v = Dense(3, activation='softmax')(model_w2v.layers[-1].output)\n",
    "new_model_w2v = Model(inputs=model_w2v.input, outputs=new_output_w2v)\n",
    "new_model_w2v.compile(optimizer='adam', loss='categorical_crossentropy', metrics=['accuracy'])"
   ]
  },
  {
   "cell_type": "markdown",
   "id": "a566be03",
   "metadata": {
    "papermill": {
     "duration": 0.161082,
     "end_time": "2024-01-27T00:50:44.432618",
     "exception": false,
     "start_time": "2024-01-27T00:50:44.271536",
     "status": "completed"
    },
    "tags": []
   },
   "source": [
    "Extract features from the Digikala dataset.<br>\n",
    "Note: Pay attention to the fact that your features are the same as the ones you extracted from the Snappfood dataset. You just need to use the same method for the new dataset. For instance, if you consider the `CountVectorizer` as your feature extractor, the set of the words for which you'll count the frequency will not change! **(P4-3: 15 points)**"
   ]
  },
  {
   "cell_type": "code",
   "execution_count": 17,
   "id": "436bcb2b",
   "metadata": {
    "execution": {
     "iopub.execute_input": "2024-01-27T00:50:44.752423Z",
     "iopub.status.busy": "2024-01-27T00:50:44.751812Z",
     "iopub.status.idle": "2024-01-27T00:51:24.415407Z",
     "shell.execute_reply": "2024-01-27T00:51:24.414545Z"
    },
    "papermill": {
     "duration": 39.826493,
     "end_time": "2024-01-27T00:51:24.417561",
     "exception": false,
     "start_time": "2024-01-27T00:50:44.591068",
     "status": "completed"
    },
    "tags": []
   },
   "outputs": [],
   "source": [
    "X_digikala_tfidf = tfidf_vectorizer.transform(digikala_data['Text']).toarray()\n",
    "\n",
    "digikala_data['tokenized_text'] = digikala_data['Text'].apply(word_tokenize)\n",
    "X_digikala_w2v = np.array([comment_vector(comment, w2v_model) for comment in digikala_data['tokenized_text']])\n",
    "\n",
    "label_encoder = LabelEncoder()\n",
    "y_digikala_encoded = label_encoder.fit_transform(digikala_data['Sentiment'])\n",
    "\n",
    "y_digikala_categorical = to_categorical(y_digikala_encoded)\n",
    "\n",
    "y_digikala_w2v = y_digikala_tfidf = y_digikala_categorical"
   ]
  },
  {
   "cell_type": "markdown",
   "id": "0cc2b06e",
   "metadata": {
    "papermill": {
     "duration": 0.159221,
     "end_time": "2024-01-27T00:51:24.739364",
     "exception": false,
     "start_time": "2024-01-27T00:51:24.580143",
     "status": "completed"
    },
    "tags": []
   },
   "source": [
    "Fine-tune the network on the training set associated with the Digikala dataset, while monitoring its performance on the corresponding validation set.<br>\n",
    "Note: The process of fine-tuning should follow one of these methods:\n",
    "- Method 1: Fix the weights for all layers expect the last one.\n",
    "- Method 2: Use a really small learning rate for all layers except the last one.\n",
    "\n",
    "**(P4-4: 5 points)**"
   ]
  },
  {
   "cell_type": "code",
   "execution_count": 18,
   "id": "6bb0abdc",
   "metadata": {
    "execution": {
     "iopub.execute_input": "2024-01-27T00:51:25.060031Z",
     "iopub.status.busy": "2024-01-27T00:51:25.059380Z",
     "iopub.status.idle": "2024-01-27T00:51:37.991269Z",
     "shell.execute_reply": "2024-01-27T00:51:37.990479Z"
    },
    "papermill": {
     "duration": 13.094577,
     "end_time": "2024-01-27T00:51:37.993184",
     "exception": false,
     "start_time": "2024-01-27T00:51:24.898607",
     "status": "completed"
    },
    "tags": []
   },
   "outputs": [
    {
     "name": "stdout",
     "output_type": "stream",
     "text": [
      "Epoch 1/10\n",
      "72/72 [==============================] - 1s 6ms/step - loss: 0.6802 - accuracy: 0.7765 - val_loss: 0.5110 - val_accuracy: 0.8712\n",
      "Epoch 2/10\n",
      "72/72 [==============================] - 0s 3ms/step - loss: 0.5383 - accuracy: 0.8589 - val_loss: 0.4899 - val_accuracy: 0.8712\n",
      "Epoch 3/10\n",
      "72/72 [==============================] - 0s 3ms/step - loss: 0.5205 - accuracy: 0.8585 - val_loss: 0.4859 - val_accuracy: 0.8712\n",
      "Epoch 4/10\n",
      "72/72 [==============================] - 0s 3ms/step - loss: 0.5263 - accuracy: 0.8620 - val_loss: 0.4828 - val_accuracy: 0.8712\n",
      "Epoch 5/10\n",
      "72/72 [==============================] - 0s 3ms/step - loss: 0.4984 - accuracy: 0.8593 - val_loss: 0.4811 - val_accuracy: 0.8712\n",
      "Epoch 6/10\n",
      "72/72 [==============================] - 0s 3ms/step - loss: 0.4998 - accuracy: 0.8620 - val_loss: 0.4794 - val_accuracy: 0.8712\n",
      "Epoch 7/10\n",
      "72/72 [==============================] - 0s 3ms/step - loss: 0.5077 - accuracy: 0.8615 - val_loss: 0.4771 - val_accuracy: 0.8712\n",
      "Epoch 8/10\n",
      "72/72 [==============================] - 0s 3ms/step - loss: 0.5029 - accuracy: 0.8637 - val_loss: 0.4743 - val_accuracy: 0.8712\n",
      "Epoch 9/10\n",
      "72/72 [==============================] - 0s 3ms/step - loss: 0.5096 - accuracy: 0.8628 - val_loss: 0.4720 - val_accuracy: 0.8712\n",
      "Epoch 10/10\n",
      "72/72 [==============================] - 0s 3ms/step - loss: 0.5078 - accuracy: 0.8650 - val_loss: 0.4703 - val_accuracy: 0.8712\n",
      "Epoch 1/10\n",
      "72/72 [==============================] - 1s 5ms/step - loss: 0.4907 - accuracy: 0.8663 - val_loss: 0.4701 - val_accuracy: 0.8712\n",
      "Epoch 2/10\n",
      "72/72 [==============================] - 0s 3ms/step - loss: 0.4896 - accuracy: 0.8615 - val_loss: 0.4696 - val_accuracy: 0.8712\n",
      "Epoch 3/10\n",
      "72/72 [==============================] - 0s 3ms/step - loss: 0.4905 - accuracy: 0.8642 - val_loss: 0.4693 - val_accuracy: 0.8712\n",
      "Epoch 4/10\n",
      "72/72 [==============================] - 0s 3ms/step - loss: 0.4863 - accuracy: 0.8642 - val_loss: 0.4690 - val_accuracy: 0.8712\n",
      "Epoch 5/10\n",
      "72/72 [==============================] - 0s 4ms/step - loss: 0.4999 - accuracy: 0.8646 - val_loss: 0.4686 - val_accuracy: 0.8712\n",
      "Epoch 6/10\n",
      "72/72 [==============================] - 0s 4ms/step - loss: 0.4881 - accuracy: 0.8646 - val_loss: 0.4683 - val_accuracy: 0.8712\n",
      "Epoch 7/10\n",
      "72/72 [==============================] - 0s 3ms/step - loss: 0.4960 - accuracy: 0.8642 - val_loss: 0.4681 - val_accuracy: 0.8712\n",
      "Epoch 8/10\n",
      "72/72 [==============================] - 0s 3ms/step - loss: 0.4900 - accuracy: 0.8628 - val_loss: 0.4678 - val_accuracy: 0.8712\n",
      "Epoch 9/10\n",
      "72/72 [==============================] - 0s 3ms/step - loss: 0.4910 - accuracy: 0.8624 - val_loss: 0.4675 - val_accuracy: 0.8712\n",
      "Epoch 10/10\n",
      "72/72 [==============================] - 0s 3ms/step - loss: 0.4843 - accuracy: 0.8615 - val_loss: 0.4672 - val_accuracy: 0.8712\n",
      "Epoch 1/10\n",
      "72/72 [==============================] - 1s 5ms/step - loss: 1.2567 - accuracy: 0.4479 - val_loss: 0.6805 - val_accuracy: 0.8630\n",
      "Epoch 2/10\n",
      "72/72 [==============================] - 0s 3ms/step - loss: 0.6673 - accuracy: 0.8019 - val_loss: 0.5388 - val_accuracy: 0.8712\n",
      "Epoch 3/10\n",
      "72/72 [==============================] - 0s 3ms/step - loss: 0.5523 - accuracy: 0.8536 - val_loss: 0.5032 - val_accuracy: 0.8712\n",
      "Epoch 4/10\n",
      "72/72 [==============================] - 0s 3ms/step - loss: 0.5417 - accuracy: 0.8606 - val_loss: 0.4860 - val_accuracy: 0.8712\n",
      "Epoch 5/10\n",
      "72/72 [==============================] - 0s 3ms/step - loss: 0.5233 - accuracy: 0.8620 - val_loss: 0.4768 - val_accuracy: 0.8712\n",
      "Epoch 6/10\n",
      "72/72 [==============================] - 0s 3ms/step - loss: 0.5239 - accuracy: 0.8598 - val_loss: 0.4698 - val_accuracy: 0.8712\n",
      "Epoch 7/10\n",
      "72/72 [==============================] - 0s 3ms/step - loss: 0.4972 - accuracy: 0.8642 - val_loss: 0.4652 - val_accuracy: 0.8712\n",
      "Epoch 8/10\n",
      "72/72 [==============================] - 0s 3ms/step - loss: 0.5052 - accuracy: 0.8628 - val_loss: 0.4613 - val_accuracy: 0.8712\n",
      "Epoch 9/10\n",
      "72/72 [==============================] - 0s 3ms/step - loss: 0.5126 - accuracy: 0.8642 - val_loss: 0.4589 - val_accuracy: 0.8712\n",
      "Epoch 10/10\n",
      "72/72 [==============================] - 0s 3ms/step - loss: 0.5034 - accuracy: 0.8633 - val_loss: 0.4568 - val_accuracy: 0.8712\n",
      "Epoch 1/10\n",
      "72/72 [==============================] - 1s 5ms/step - loss: 0.5011 - accuracy: 0.8655 - val_loss: 0.4564 - val_accuracy: 0.8712\n",
      "Epoch 2/10\n",
      "72/72 [==============================] - 0s 3ms/step - loss: 0.5077 - accuracy: 0.8642 - val_loss: 0.4559 - val_accuracy: 0.8712\n",
      "Epoch 3/10\n",
      "72/72 [==============================] - 0s 3ms/step - loss: 0.5042 - accuracy: 0.8659 - val_loss: 0.4556 - val_accuracy: 0.8712\n",
      "Epoch 4/10\n",
      "72/72 [==============================] - 0s 3ms/step - loss: 0.4925 - accuracy: 0.8650 - val_loss: 0.4552 - val_accuracy: 0.8712\n",
      "Epoch 5/10\n",
      "72/72 [==============================] - 0s 3ms/step - loss: 0.5001 - accuracy: 0.8655 - val_loss: 0.4548 - val_accuracy: 0.8712\n",
      "Epoch 6/10\n",
      "72/72 [==============================] - 0s 3ms/step - loss: 0.5021 - accuracy: 0.8642 - val_loss: 0.4545 - val_accuracy: 0.8712\n",
      "Epoch 7/10\n",
      "72/72 [==============================] - 0s 3ms/step - loss: 0.4964 - accuracy: 0.8659 - val_loss: 0.4541 - val_accuracy: 0.8712\n",
      "Epoch 8/10\n",
      "72/72 [==============================] - 0s 3ms/step - loss: 0.5130 - accuracy: 0.8659 - val_loss: 0.4538 - val_accuracy: 0.8712\n",
      "Epoch 9/10\n",
      "72/72 [==============================] - 0s 3ms/step - loss: 0.4932 - accuracy: 0.8646 - val_loss: 0.4535 - val_accuracy: 0.8712\n",
      "Epoch 10/10\n",
      "72/72 [==============================] - 0s 3ms/step - loss: 0.5032 - accuracy: 0.8655 - val_loss: 0.4533 - val_accuracy: 0.8712\n"
     ]
    }
   ],
   "source": [
    "from tensorflow.keras.optimizers import Adam\n",
    "\n",
    "X_train_tfidf, X_temp_tfidf, y_train_tfidf, y_temp_tfidf = train_test_split(X_digikala_tfidf, y_digikala_categorical, test_size=0.3, random_state=42)\n",
    "X_val_tfidf, X_test_tfidf, y_val_tfidf, y_test_tfidf = train_test_split(X_temp_tfidf, y_temp_tfidf, test_size=0.5, random_state=42)\n",
    "\n",
    "X_train_w2v, X_temp_w2v, y_train_w2v, y_temp_w2v = train_test_split(X_digikala_w2v, y_digikala_categorical, test_size=0.3, random_state=42)\n",
    "X_val_w2v, X_test_w2v, y_val_w2v, y_test_w2v = train_test_split(X_temp_w2v, y_temp_w2v, test_size=0.5, random_state=42)\n",
    "\n",
    "for layer in new_model_tfidf.layers[:-1]:\n",
    "    layer.trainable = False\n",
    "new_model_tfidf.compile(optimizer='adam', loss='categorical_crossentropy', metrics=['accuracy'])\n",
    "history_tfidf1 = new_model_tfidf.fit(X_train_tfidf, y_train_tfidf, epochs=10, batch_size=32, validation_data=(X_val_tfidf, y_val_tfidf))\n",
    "\n",
    "new_model_tfidf.compile(optimizer=Adam(learning_rate=0.0001), loss='categorical_crossentropy', metrics=['accuracy'])\n",
    "history_tfidf2 = new_model_tfidf.fit(X_train_tfidf, y_train_tfidf, epochs=10, batch_size=32, validation_data=(X_val_tfidf, y_val_tfidf))\n",
    "\n",
    "\n",
    "for layer in new_model_w2v.layers[:-1]:\n",
    "    layer.trainable = False\n",
    "new_model_w2v.compile(optimizer='adam', loss='categorical_crossentropy', metrics=['accuracy'])\n",
    "history_w2v1 = new_model_w2v.fit(X_train_w2v, y_train_w2v, epochs=10, batch_size=32, validation_data=(X_val_w2v, y_val_w2v))\n",
    "\n",
    "new_model_w2v.compile(optimizer=Adam(learning_rate=0.0001), loss='categorical_crossentropy', metrics=['accuracy'])\n",
    "\n",
    "history_w2v = new_model_w2v.fit(X_train_w2v, y_train_w2v, epochs=10, batch_size=32, validation_data=(X_val_w2v, y_val_w2v))\n"
   ]
  },
  {
   "cell_type": "markdown",
   "id": "922831e2",
   "metadata": {
    "papermill": {
     "duration": 0.176928,
     "end_time": "2024-01-27T00:51:38.348878",
     "exception": false,
     "start_time": "2024-01-27T00:51:38.171950",
     "status": "completed"
    },
    "tags": []
   },
   "source": [
    "Evaluate the performance of the neural network on the testing set you have extracted from the Digikala dataset. **(P4-5: 5 points)**"
   ]
  },
  {
   "cell_type": "code",
   "execution_count": 19,
   "id": "6758dc85",
   "metadata": {
    "execution": {
     "iopub.execute_input": "2024-01-27T00:51:38.751250Z",
     "iopub.status.busy": "2024-01-27T00:51:38.750385Z",
     "iopub.status.idle": "2024-01-27T00:51:39.037389Z",
     "shell.execute_reply": "2024-01-27T00:51:39.036338Z"
    },
    "papermill": {
     "duration": 0.513359,
     "end_time": "2024-01-27T00:51:39.039506",
     "exception": false,
     "start_time": "2024-01-27T00:51:38.526147",
     "status": "completed"
    },
    "tags": []
   },
   "outputs": [
    {
     "name": "stdout",
     "output_type": "stream",
     "text": [
      "16/16 [==============================] - 0s 2ms/step\n",
      "16/16 [==============================] - 0s 1ms/step\n",
      "Performance with TF-IDF Features:\n",
      "              precision    recall  f1-score   support\n",
      "\n",
      "           0       0.00      0.00      0.00        27\n",
      "           1       0.00      0.00      0.00        25\n",
      "           2       0.89      1.00      0.94       438\n",
      "\n",
      "    accuracy                           0.89       490\n",
      "   macro avg       0.30      0.33      0.31       490\n",
      "weighted avg       0.80      0.89      0.84       490\n",
      "\n",
      "Accuracy: 0.8938775510204081\n",
      "Performance with Word2Vec Features:\n",
      "              precision    recall  f1-score   support\n",
      "\n",
      "           0       0.00      0.00      0.00        27\n",
      "           1       0.00      0.00      0.00        25\n",
      "           2       0.89      1.00      0.94       438\n",
      "\n",
      "    accuracy                           0.89       490\n",
      "   macro avg       0.30      0.33      0.31       490\n",
      "weighted avg       0.80      0.89      0.84       490\n",
      "\n",
      "Accuracy: 0.8938775510204081\n"
     ]
    },
    {
     "name": "stderr",
     "output_type": "stream",
     "text": [
      "/opt/conda/lib/python3.10/site-packages/sklearn/metrics/_classification.py:1344: UndefinedMetricWarning: Precision and F-score are ill-defined and being set to 0.0 in labels with no predicted samples. Use `zero_division` parameter to control this behavior.\n",
      "  _warn_prf(average, modifier, msg_start, len(result))\n",
      "/opt/conda/lib/python3.10/site-packages/sklearn/metrics/_classification.py:1344: UndefinedMetricWarning: Precision and F-score are ill-defined and being set to 0.0 in labels with no predicted samples. Use `zero_division` parameter to control this behavior.\n",
      "  _warn_prf(average, modifier, msg_start, len(result))\n",
      "/opt/conda/lib/python3.10/site-packages/sklearn/metrics/_classification.py:1344: UndefinedMetricWarning: Precision and F-score are ill-defined and being set to 0.0 in labels with no predicted samples. Use `zero_division` parameter to control this behavior.\n",
      "  _warn_prf(average, modifier, msg_start, len(result))\n",
      "/opt/conda/lib/python3.10/site-packages/sklearn/metrics/_classification.py:1344: UndefinedMetricWarning: Precision and F-score are ill-defined and being set to 0.0 in labels with no predicted samples. Use `zero_division` parameter to control this behavior.\n",
      "  _warn_prf(average, modifier, msg_start, len(result))\n",
      "/opt/conda/lib/python3.10/site-packages/sklearn/metrics/_classification.py:1344: UndefinedMetricWarning: Precision and F-score are ill-defined and being set to 0.0 in labels with no predicted samples. Use `zero_division` parameter to control this behavior.\n",
      "  _warn_prf(average, modifier, msg_start, len(result))\n",
      "/opt/conda/lib/python3.10/site-packages/sklearn/metrics/_classification.py:1344: UndefinedMetricWarning: Precision and F-score are ill-defined and being set to 0.0 in labels with no predicted samples. Use `zero_division` parameter to control this behavior.\n",
      "  _warn_prf(average, modifier, msg_start, len(result))\n"
     ]
    }
   ],
   "source": [
    "import numpy as np\n",
    "from sklearn.metrics import classification_report, accuracy_score\n",
    "predictions_tfidf = new_model_tfidf.predict(X_test_tfidf)\n",
    "predictions_w2v = new_model_w2v.predict(X_test_w2v)\n",
    "\n",
    "predictions_tfidf_categorical = np.argmax(predictions_tfidf, axis=1)\n",
    "y_test_tfidf_categorical = np.argmax(y_test_tfidf, axis=1)\n",
    "\n",
    "print(\"Performance with TF-IDF Features:\")\n",
    "print(classification_report(y_test_tfidf_categorical, predictions_tfidf_categorical))\n",
    "print(\"Accuracy:\", accuracy_score(y_test_tfidf_categorical, predictions_tfidf_categorical))\n",
    "\n",
    "\n",
    "predictions_w2v_categorical = np.argmax(predictions_w2v, axis=1)\n",
    "y_test_w2v_categorical = np.argmax(y_test_w2v, axis=1)\n",
    "\n",
    "print(\"Performance with Word2Vec Features:\")\n",
    "print(classification_report(y_test_w2v_categorical, predictions_w2v_categorical))\n",
    "print(\"Accuracy:\", accuracy_score(y_test_w2v_categorical, predictions_w2v_categorical))\n"
   ]
  }
 ],
 "metadata": {
  "kaggle": {
   "accelerator": "gpu",
   "dataSources": [
    {
     "datasetId": 435023,
     "sourceId": 826102,
     "sourceType": "datasetVersion"
    },
    {
     "datasetId": 2311034,
     "sourceId": 3889482,
     "sourceType": "datasetVersion"
    }
   ],
   "dockerImageVersionId": 30626,
   "isGpuEnabled": true,
   "isInternetEnabled": true,
   "language": "python",
   "sourceType": "notebook"
  },
  "kernelspec": {
   "display_name": "Python 3",
   "language": "python",
   "name": "python3"
  },
  "language_info": {
   "codemirror_mode": {
    "name": "ipython",
    "version": 3
   },
   "file_extension": ".py",
   "mimetype": "text/x-python",
   "name": "python",
   "nbconvert_exporter": "python",
   "pygments_lexer": "ipython3",
   "version": "3.10.12"
  },
  "papermill": {
   "default_parameters": {},
   "duration": 838.866682,
   "end_time": "2024-01-27T00:51:42.406977",
   "environment_variables": {},
   "exception": null,
   "input_path": "__notebook__.ipynb",
   "output_path": "__notebook__.ipynb",
   "parameters": {},
   "start_time": "2024-01-27T00:37:43.540295",
   "version": "2.4.0"
  }
 },
 "nbformat": 4,
 "nbformat_minor": 5
}
